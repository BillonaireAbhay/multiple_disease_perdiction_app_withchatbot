{
 "cells": [
  {
   "cell_type": "markdown",
   "id": "c755214a",
   "metadata": {},
   "source": [
    "# Title: Personalized Medical Recommendation System with Machine Learning\n",
    "\n",
    "# Description:\n",
    "\n",
    "Welcome to our cutting-edge Personalized Medical Recommendation System, a powerful platform designed to assist users in understanding and managing their health. Leveraging the capabilities of machine learning, our system analyzes user-input symptoms to predict potential diseases accurately."
   ]
  },
  {
   "cell_type": "markdown",
   "id": "db119e1e",
   "metadata": {},
   "source": [
    "# load dataset & tools"
   ]
  },
  {
   "cell_type": "code",
   "execution_count": 22,
   "id": "4e4766bf",
   "metadata": {
    "ExecuteTime": {
     "end_time": "2025-04-28T20:13:25.042574Z",
     "start_time": "2025-04-28T20:13:24.961627Z"
    }
   },
   "outputs": [],
   "source": [
    "import  pandas as pd\n",
    "import numpy as np\n",
    "import matplotlib as plt\n",
    "import keras \n",
    "import tensorflow as tf"
   ]
  },
  {
   "cell_type": "code",
   "execution_count": 23,
   "id": "adaccf03",
   "metadata": {
    "ExecuteTime": {
     "end_time": "2025-04-28T20:01:36.442429Z",
     "start_time": "2025-04-28T20:01:28.382083Z"
    }
   },
   "outputs": [
    {
     "name": "stdout",
     "output_type": "stream",
     "text": [
      "/Users/mac/Desktop/Medicine-Recommendation-System-Personalized-Medical-Recommendation-System-with-Machine-Learning/.venv/bin/pip: line 2: /Users/mac/Desktop/reccomendation system/Medicine-Recommendation-System-Personalized-Medical-Recommendation-System-with-Machine-Learning/.venv/bin/python: No such file or directory\n",
      "/Users/mac/Desktop/Medicine-Recommendation-System-Personalized-Medical-Recommendation-System-with-Machine-Learning/.venv/bin/pip: line 2: exec: /Users/mac/Desktop/reccomendation system/Medicine-Recommendation-System-Personalized-Medical-Recommendation-System-with-Machine-Learning/.venv/bin/python: cannot execute: No such file or directory\n",
      "/Users/mac/Desktop/Medicine-Recommendation-System-Personalized-Medical-Recommendation-System-with-Machine-Learning/.venv/bin/pip: line 2: /Users/mac/Desktop/reccomendation system/Medicine-Recommendation-System-Personalized-Medical-Recommendation-System-with-Machine-Learning/.venv/bin/python: No such file or directory\n",
      "/Users/mac/Desktop/Medicine-Recommendation-System-Personalized-Medical-Recommendation-System-with-Machine-Learning/.venv/bin/pip: line 2: exec: /Users/mac/Desktop/reccomendation system/Medicine-Recommendation-System-Personalized-Medical-Recommendation-System-with-Machine-Learning/.venv/bin/python: cannot execute: No such file or directory\n",
      "/Users/mac/Desktop/Medicine-Recommendation-System-Personalized-Medical-Recommendation-System-with-Machine-Learning/.venv/bin/pip: line 2: /Users/mac/Desktop/reccomendation system/Medicine-Recommendation-System-Personalized-Medical-Recommendation-System-with-Machine-Learning/.venv/bin/python: No such file or directory\n",
      "/Users/mac/Desktop/Medicine-Recommendation-System-Personalized-Medical-Recommendation-System-with-Machine-Learning/.venv/bin/pip: line 2: exec: /Users/mac/Desktop/reccomendation system/Medicine-Recommendation-System-Personalized-Medical-Recommendation-System-with-Machine-Learning/.venv/bin/python: cannot execute: No such file or directory\n",
      "/Users/mac/Desktop/Medicine-Recommendation-System-Personalized-Medical-Recommendation-System-with-Machine-Learning/.venv/bin/pip: line 2: /Users/mac/Desktop/reccomendation system/Medicine-Recommendation-System-Personalized-Medical-Recommendation-System-with-Machine-Learning/.venv/bin/python: No such file or directory\n",
      "/Users/mac/Desktop/Medicine-Recommendation-System-Personalized-Medical-Recommendation-System-with-Machine-Learning/.venv/bin/pip: line 2: exec: /Users/mac/Desktop/reccomendation system/Medicine-Recommendation-System-Personalized-Medical-Recommendation-System-with-Machine-Learning/.venv/bin/python: cannot execute: No such file or directory\n",
      "/Users/mac/Desktop/Medicine-Recommendation-System-Personalized-Medical-Recommendation-System-with-Machine-Learning/.venv/bin/pip: line 2: /Users/mac/Desktop/reccomendation system/Medicine-Recommendation-System-Personalized-Medical-Recommendation-System-with-Machine-Learning/.venv/bin/python: No such file or directory\n",
      "/Users/mac/Desktop/Medicine-Recommendation-System-Personalized-Medical-Recommendation-System-with-Machine-Learning/.venv/bin/pip: line 2: exec: /Users/mac/Desktop/reccomendation system/Medicine-Recommendation-System-Personalized-Medical-Recommendation-System-with-Machine-Learning/.venv/bin/python: cannot execute: No such file or directory\n"
     ]
    }
   ],
   "source": [
    "!pip install pandas as pd\n",
    "!pip install keras\n",
    "!pip install matolotlib as plt\n",
    "!pip install numpy\n",
    "!pip install tensorflow as tf\n"
   ]
  },
  {
   "cell_type": "code",
   "execution_count": 24,
   "id": "56ce4778",
   "metadata": {
    "ExecuteTime": {
     "end_time": "2025-04-28T19:57:41.598318Z",
     "start_time": "2025-03-06T04:41:31.038038Z"
    }
   },
   "outputs": [],
   "source": [
    "dataset = pd.read_csv('Training_complex_modified.csv')"
   ]
  },
  {
   "cell_type": "code",
   "execution_count": 25,
   "id": "5f18d6d2",
   "metadata": {
    "ExecuteTime": {
     "end_time": "2025-04-28T19:57:41.642764Z",
     "start_time": "2025-03-06T04:41:33.063626Z"
    }
   },
   "outputs": [
    {
     "data": {
      "text/html": [
       "<div>\n",
       "<style scoped>\n",
       "    .dataframe tbody tr th:only-of-type {\n",
       "        vertical-align: middle;\n",
       "    }\n",
       "\n",
       "    .dataframe tbody tr th {\n",
       "        vertical-align: top;\n",
       "    }\n",
       "\n",
       "    .dataframe thead th {\n",
       "        text-align: right;\n",
       "    }\n",
       "</style>\n",
       "<table border=\"1\" class=\"dataframe\">\n",
       "  <thead>\n",
       "    <tr style=\"text-align: right;\">\n",
       "      <th></th>\n",
       "      <th>itching</th>\n",
       "      <th>skin_rash</th>\n",
       "      <th>nodal_skin_eruptions</th>\n",
       "      <th>continuous_sneezing</th>\n",
       "      <th>shivering</th>\n",
       "      <th>chills</th>\n",
       "      <th>joint_pain</th>\n",
       "      <th>stomach_pain</th>\n",
       "      <th>acidity</th>\n",
       "      <th>ulcers_on_tongue</th>\n",
       "      <th>...</th>\n",
       "      <th>noise_feature_5</th>\n",
       "      <th>noise_feature_6</th>\n",
       "      <th>noise_feature_7</th>\n",
       "      <th>noise_feature_8</th>\n",
       "      <th>noise_feature_9</th>\n",
       "      <th>interaction_neck_pain_palpitations</th>\n",
       "      <th>interaction_acute_liver_failure_obesity</th>\n",
       "      <th>interaction_blackheads_noise_feature_6</th>\n",
       "      <th>interaction_noise_feature_6_cold_hands_and_feets</th>\n",
       "      <th>interaction_loss_of_appetite_diarrhoea</th>\n",
       "    </tr>\n",
       "  </thead>\n",
       "  <tbody>\n",
       "    <tr>\n",
       "      <th>0</th>\n",
       "      <td>0.921395</td>\n",
       "      <td>1.000000</td>\n",
       "      <td>1.000000</td>\n",
       "      <td>0.016828</td>\n",
       "      <td>0.036582</td>\n",
       "      <td>0.000000</td>\n",
       "      <td>0.000000</td>\n",
       "      <td>0.000000</td>\n",
       "      <td>0.000000</td>\n",
       "      <td>0.004464</td>\n",
       "      <td>...</td>\n",
       "      <td>0.939179</td>\n",
       "      <td>0.007510</td>\n",
       "      <td>0.997145</td>\n",
       "      <td>1.000000</td>\n",
       "      <td>0.000000</td>\n",
       "      <td>0.015365</td>\n",
       "      <td>0.059450</td>\n",
       "      <td>0.035653</td>\n",
       "      <td>0.010645</td>\n",
       "      <td>0.000000</td>\n",
       "    </tr>\n",
       "    <tr>\n",
       "      <th>1</th>\n",
       "      <td>0.020959</td>\n",
       "      <td>1.000000</td>\n",
       "      <td>0.966586</td>\n",
       "      <td>0.000000</td>\n",
       "      <td>0.002953</td>\n",
       "      <td>0.029065</td>\n",
       "      <td>0.000000</td>\n",
       "      <td>0.057123</td>\n",
       "      <td>0.031342</td>\n",
       "      <td>0.095380</td>\n",
       "      <td>...</td>\n",
       "      <td>0.000000</td>\n",
       "      <td>0.000000</td>\n",
       "      <td>1.000000</td>\n",
       "      <td>0.874245</td>\n",
       "      <td>1.000000</td>\n",
       "      <td>0.000000</td>\n",
       "      <td>0.014037</td>\n",
       "      <td>0.000000</td>\n",
       "      <td>0.000000</td>\n",
       "      <td>0.004883</td>\n",
       "    </tr>\n",
       "    <tr>\n",
       "      <th>2</th>\n",
       "      <td>1.000000</td>\n",
       "      <td>0.000000</td>\n",
       "      <td>1.000000</td>\n",
       "      <td>0.000000</td>\n",
       "      <td>0.077005</td>\n",
       "      <td>0.000000</td>\n",
       "      <td>0.013565</td>\n",
       "      <td>0.000000</td>\n",
       "      <td>0.000000</td>\n",
       "      <td>0.000000</td>\n",
       "      <td>...</td>\n",
       "      <td>1.000000</td>\n",
       "      <td>0.000000</td>\n",
       "      <td>0.026370</td>\n",
       "      <td>0.018273</td>\n",
       "      <td>0.000000</td>\n",
       "      <td>0.000000</td>\n",
       "      <td>0.050519</td>\n",
       "      <td>0.000000</td>\n",
       "      <td>0.000000</td>\n",
       "      <td>0.067935</td>\n",
       "    </tr>\n",
       "    <tr>\n",
       "      <th>3</th>\n",
       "      <td>1.000000</td>\n",
       "      <td>1.000000</td>\n",
       "      <td>0.098589</td>\n",
       "      <td>0.000000</td>\n",
       "      <td>0.029371</td>\n",
       "      <td>0.000000</td>\n",
       "      <td>0.015618</td>\n",
       "      <td>0.000000</td>\n",
       "      <td>0.000000</td>\n",
       "      <td>0.030613</td>\n",
       "      <td>...</td>\n",
       "      <td>1.000000</td>\n",
       "      <td>0.926357</td>\n",
       "      <td>1.000000</td>\n",
       "      <td>0.032625</td>\n",
       "      <td>1.000000</td>\n",
       "      <td>0.000000</td>\n",
       "      <td>0.026140</td>\n",
       "      <td>0.010766</td>\n",
       "      <td>0.058704</td>\n",
       "      <td>0.004930</td>\n",
       "    </tr>\n",
       "    <tr>\n",
       "      <th>4</th>\n",
       "      <td>1.000000</td>\n",
       "      <td>1.000000</td>\n",
       "      <td>1.000000</td>\n",
       "      <td>0.088871</td>\n",
       "      <td>0.009371</td>\n",
       "      <td>0.000000</td>\n",
       "      <td>0.003613</td>\n",
       "      <td>0.029156</td>\n",
       "      <td>0.019829</td>\n",
       "      <td>0.000000</td>\n",
       "      <td>...</td>\n",
       "      <td>0.063035</td>\n",
       "      <td>1.000000</td>\n",
       "      <td>0.000000</td>\n",
       "      <td>0.083241</td>\n",
       "      <td>0.953392</td>\n",
       "      <td>0.000000</td>\n",
       "      <td>0.077780</td>\n",
       "      <td>0.000000</td>\n",
       "      <td>0.019393</td>\n",
       "      <td>0.021930</td>\n",
       "    </tr>\n",
       "    <tr>\n",
       "      <th>...</th>\n",
       "      <td>...</td>\n",
       "      <td>...</td>\n",
       "      <td>...</td>\n",
       "      <td>...</td>\n",
       "      <td>...</td>\n",
       "      <td>...</td>\n",
       "      <td>...</td>\n",
       "      <td>...</td>\n",
       "      <td>...</td>\n",
       "      <td>...</td>\n",
       "      <td>...</td>\n",
       "      <td>...</td>\n",
       "      <td>...</td>\n",
       "      <td>...</td>\n",
       "      <td>...</td>\n",
       "      <td>...</td>\n",
       "      <td>...</td>\n",
       "      <td>...</td>\n",
       "      <td>...</td>\n",
       "      <td>...</td>\n",
       "      <td>...</td>\n",
       "    </tr>\n",
       "    <tr>\n",
       "      <th>4915</th>\n",
       "      <td>0.000000</td>\n",
       "      <td>0.002952</td>\n",
       "      <td>0.060248</td>\n",
       "      <td>0.026547</td>\n",
       "      <td>0.000000</td>\n",
       "      <td>0.000000</td>\n",
       "      <td>0.016987</td>\n",
       "      <td>0.000000</td>\n",
       "      <td>0.000000</td>\n",
       "      <td>0.022225</td>\n",
       "      <td>...</td>\n",
       "      <td>0.952718</td>\n",
       "      <td>0.860104</td>\n",
       "      <td>0.947249</td>\n",
       "      <td>0.005330</td>\n",
       "      <td>0.014070</td>\n",
       "      <td>0.003262</td>\n",
       "      <td>0.000000</td>\n",
       "      <td>0.000000</td>\n",
       "      <td>0.000000</td>\n",
       "      <td>0.000000</td>\n",
       "    </tr>\n",
       "    <tr>\n",
       "      <th>4916</th>\n",
       "      <td>0.000000</td>\n",
       "      <td>1.000000</td>\n",
       "      <td>0.000000</td>\n",
       "      <td>0.050688</td>\n",
       "      <td>0.000000</td>\n",
       "      <td>0.000000</td>\n",
       "      <td>0.000000</td>\n",
       "      <td>0.001616</td>\n",
       "      <td>0.000000</td>\n",
       "      <td>0.031614</td>\n",
       "      <td>...</td>\n",
       "      <td>0.000000</td>\n",
       "      <td>0.909921</td>\n",
       "      <td>1.000000</td>\n",
       "      <td>0.028447</td>\n",
       "      <td>0.957304</td>\n",
       "      <td>0.085952</td>\n",
       "      <td>0.062270</td>\n",
       "      <td>1.000000</td>\n",
       "      <td>0.000000</td>\n",
       "      <td>0.005546</td>\n",
       "    </tr>\n",
       "    <tr>\n",
       "      <th>4917</th>\n",
       "      <td>0.075820</td>\n",
       "      <td>0.000000</td>\n",
       "      <td>0.000000</td>\n",
       "      <td>0.000000</td>\n",
       "      <td>0.047665</td>\n",
       "      <td>0.000000</td>\n",
       "      <td>0.009550</td>\n",
       "      <td>0.000000</td>\n",
       "      <td>0.000000</td>\n",
       "      <td>0.065447</td>\n",
       "      <td>...</td>\n",
       "      <td>0.055824</td>\n",
       "      <td>0.044402</td>\n",
       "      <td>0.986768</td>\n",
       "      <td>1.000000</td>\n",
       "      <td>1.000000</td>\n",
       "      <td>0.023622</td>\n",
       "      <td>0.000000</td>\n",
       "      <td>0.000000</td>\n",
       "      <td>0.094725</td>\n",
       "      <td>0.000000</td>\n",
       "    </tr>\n",
       "    <tr>\n",
       "      <th>4918</th>\n",
       "      <td>0.000000</td>\n",
       "      <td>1.000000</td>\n",
       "      <td>0.000000</td>\n",
       "      <td>0.086055</td>\n",
       "      <td>0.030830</td>\n",
       "      <td>0.018380</td>\n",
       "      <td>0.952464</td>\n",
       "      <td>0.063405</td>\n",
       "      <td>0.000000</td>\n",
       "      <td>0.000000</td>\n",
       "      <td>...</td>\n",
       "      <td>0.091365</td>\n",
       "      <td>0.966628</td>\n",
       "      <td>0.000000</td>\n",
       "      <td>0.890803</td>\n",
       "      <td>0.000000</td>\n",
       "      <td>0.000000</td>\n",
       "      <td>0.000000</td>\n",
       "      <td>0.032331</td>\n",
       "      <td>0.000000</td>\n",
       "      <td>0.067043</td>\n",
       "    </tr>\n",
       "    <tr>\n",
       "      <th>4919</th>\n",
       "      <td>0.041274</td>\n",
       "      <td>1.000000</td>\n",
       "      <td>0.000000</td>\n",
       "      <td>0.018266</td>\n",
       "      <td>0.009014</td>\n",
       "      <td>0.000000</td>\n",
       "      <td>0.000000</td>\n",
       "      <td>0.000000</td>\n",
       "      <td>0.103676</td>\n",
       "      <td>0.045378</td>\n",
       "      <td>...</td>\n",
       "      <td>0.000000</td>\n",
       "      <td>0.033146</td>\n",
       "      <td>0.923485</td>\n",
       "      <td>0.104425</td>\n",
       "      <td>0.064079</td>\n",
       "      <td>0.000000</td>\n",
       "      <td>0.016936</td>\n",
       "      <td>0.000000</td>\n",
       "      <td>0.034501</td>\n",
       "      <td>0.035289</td>\n",
       "    </tr>\n",
       "  </tbody>\n",
       "</table>\n",
       "<p>4920 rows × 138 columns</p>\n",
       "</div>"
      ],
      "text/plain": [
       "       itching  skin_rash  nodal_skin_eruptions  continuous_sneezing  \\\n",
       "0     0.921395   1.000000              1.000000             0.016828   \n",
       "1     0.020959   1.000000              0.966586             0.000000   \n",
       "2     1.000000   0.000000              1.000000             0.000000   \n",
       "3     1.000000   1.000000              0.098589             0.000000   \n",
       "4     1.000000   1.000000              1.000000             0.088871   \n",
       "...        ...        ...                   ...                  ...   \n",
       "4915  0.000000   0.002952              0.060248             0.026547   \n",
       "4916  0.000000   1.000000              0.000000             0.050688   \n",
       "4917  0.075820   0.000000              0.000000             0.000000   \n",
       "4918  0.000000   1.000000              0.000000             0.086055   \n",
       "4919  0.041274   1.000000              0.000000             0.018266   \n",
       "\n",
       "      shivering    chills  joint_pain  stomach_pain   acidity  \\\n",
       "0      0.036582  0.000000    0.000000      0.000000  0.000000   \n",
       "1      0.002953  0.029065    0.000000      0.057123  0.031342   \n",
       "2      0.077005  0.000000    0.013565      0.000000  0.000000   \n",
       "3      0.029371  0.000000    0.015618      0.000000  0.000000   \n",
       "4      0.009371  0.000000    0.003613      0.029156  0.019829   \n",
       "...         ...       ...         ...           ...       ...   \n",
       "4915   0.000000  0.000000    0.016987      0.000000  0.000000   \n",
       "4916   0.000000  0.000000    0.000000      0.001616  0.000000   \n",
       "4917   0.047665  0.000000    0.009550      0.000000  0.000000   \n",
       "4918   0.030830  0.018380    0.952464      0.063405  0.000000   \n",
       "4919   0.009014  0.000000    0.000000      0.000000  0.103676   \n",
       "\n",
       "      ulcers_on_tongue  ...  noise_feature_5  noise_feature_6  \\\n",
       "0             0.004464  ...         0.939179         0.007510   \n",
       "1             0.095380  ...         0.000000         0.000000   \n",
       "2             0.000000  ...         1.000000         0.000000   \n",
       "3             0.030613  ...         1.000000         0.926357   \n",
       "4             0.000000  ...         0.063035         1.000000   \n",
       "...                ...  ...              ...              ...   \n",
       "4915          0.022225  ...         0.952718         0.860104   \n",
       "4916          0.031614  ...         0.000000         0.909921   \n",
       "4917          0.065447  ...         0.055824         0.044402   \n",
       "4918          0.000000  ...         0.091365         0.966628   \n",
       "4919          0.045378  ...         0.000000         0.033146   \n",
       "\n",
       "      noise_feature_7  noise_feature_8  noise_feature_9  \\\n",
       "0            0.997145         1.000000         0.000000   \n",
       "1            1.000000         0.874245         1.000000   \n",
       "2            0.026370         0.018273         0.000000   \n",
       "3            1.000000         0.032625         1.000000   \n",
       "4            0.000000         0.083241         0.953392   \n",
       "...               ...              ...              ...   \n",
       "4915         0.947249         0.005330         0.014070   \n",
       "4916         1.000000         0.028447         0.957304   \n",
       "4917         0.986768         1.000000         1.000000   \n",
       "4918         0.000000         0.890803         0.000000   \n",
       "4919         0.923485         0.104425         0.064079   \n",
       "\n",
       "      interaction_neck_pain_palpitations  \\\n",
       "0                               0.015365   \n",
       "1                               0.000000   \n",
       "2                               0.000000   \n",
       "3                               0.000000   \n",
       "4                               0.000000   \n",
       "...                                  ...   \n",
       "4915                            0.003262   \n",
       "4916                            0.085952   \n",
       "4917                            0.023622   \n",
       "4918                            0.000000   \n",
       "4919                            0.000000   \n",
       "\n",
       "      interaction_acute_liver_failure_obesity  \\\n",
       "0                                    0.059450   \n",
       "1                                    0.014037   \n",
       "2                                    0.050519   \n",
       "3                                    0.026140   \n",
       "4                                    0.077780   \n",
       "...                                       ...   \n",
       "4915                                 0.000000   \n",
       "4916                                 0.062270   \n",
       "4917                                 0.000000   \n",
       "4918                                 0.000000   \n",
       "4919                                 0.016936   \n",
       "\n",
       "      interaction_blackheads_noise_feature_6  \\\n",
       "0                                   0.035653   \n",
       "1                                   0.000000   \n",
       "2                                   0.000000   \n",
       "3                                   0.010766   \n",
       "4                                   0.000000   \n",
       "...                                      ...   \n",
       "4915                                0.000000   \n",
       "4916                                1.000000   \n",
       "4917                                0.000000   \n",
       "4918                                0.032331   \n",
       "4919                                0.000000   \n",
       "\n",
       "      interaction_noise_feature_6_cold_hands_and_feets  \\\n",
       "0                                             0.010645   \n",
       "1                                             0.000000   \n",
       "2                                             0.000000   \n",
       "3                                             0.058704   \n",
       "4                                             0.019393   \n",
       "...                                                ...   \n",
       "4915                                          0.000000   \n",
       "4916                                          0.000000   \n",
       "4917                                          0.094725   \n",
       "4918                                          0.000000   \n",
       "4919                                          0.034501   \n",
       "\n",
       "      interaction_loss_of_appetite_diarrhoea  \n",
       "0                                   0.000000  \n",
       "1                                   0.004883  \n",
       "2                                   0.067935  \n",
       "3                                   0.004930  \n",
       "4                                   0.021930  \n",
       "...                                      ...  \n",
       "4915                                0.000000  \n",
       "4916                                0.005546  \n",
       "4917                                0.000000  \n",
       "4918                                0.067043  \n",
       "4919                                0.035289  \n",
       "\n",
       "[4920 rows x 138 columns]"
      ]
     },
     "execution_count": 25,
     "metadata": {},
     "output_type": "execute_result"
    }
   ],
   "source": [
    "dataset"
   ]
  },
  {
   "cell_type": "code",
   "execution_count": 26,
   "id": "f49b2b12",
   "metadata": {
    "ExecuteTime": {
     "end_time": "2025-04-28T19:57:41.683180Z",
     "start_time": "2025-03-06T04:41:36.906386Z"
    }
   },
   "outputs": [],
   "source": [
    "# vals = dataset.values.flatten()"
   ]
  },
  {
   "cell_type": "code",
   "execution_count": 27,
   "id": "a49049bd",
   "metadata": {
    "ExecuteTime": {
     "end_time": "2025-04-28T19:57:41.731376Z",
     "start_time": "2025-03-06T04:41:37.835503Z"
    }
   },
   "outputs": [
    {
     "data": {
      "text/plain": [
       "(4920, 138)"
      ]
     },
     "execution_count": 27,
     "metadata": {},
     "output_type": "execute_result"
    }
   ],
   "source": [
    "dataset.shape"
   ]
  },
  {
   "cell_type": "markdown",
   "id": "2db916ab",
   "metadata": {},
   "source": [
    "# train test split"
   ]
  },
  {
   "cell_type": "code",
   "execution_count": 28,
   "id": "b1e9c647",
   "metadata": {
    "ExecuteTime": {
     "end_time": "2025-04-28T19:57:41.761123Z",
     "start_time": "2025-03-06T04:41:39.432116Z"
    }
   },
   "outputs": [],
   "source": [
    "from sklearn.model_selection import train_test_split\n",
    "from sklearn.preprocessing import LabelEncoder"
   ]
  },
  {
   "cell_type": "code",
   "execution_count": 29,
   "id": "4cb2e972",
   "metadata": {
    "ExecuteTime": {
     "end_time": "2025-04-28T19:57:41.807170Z",
     "start_time": "2025-03-06T04:41:40.811162Z"
    }
   },
   "outputs": [],
   "source": [
    "X = dataset.drop('prognosis', axis=1)\n",
    "y = dataset['prognosis']\n",
    "\n",
    "# ecoding prognonsis\n",
    "le = LabelEncoder()\n",
    "le.fit(y)\n",
    "Y = le.transform(y)\n",
    "    \n",
    "X_train, X_test, y_train, y_test = train_test_split(X, Y, test_size=0.2, random_state=20)"
   ]
  },
  {
   "cell_type": "markdown",
   "id": "1c1a9ed2",
   "metadata": {},
   "source": [
    "# Training top models"
   ]
  },
  {
   "cell_type": "code",
   "execution_count": 30,
   "id": "5b9c4a9e",
   "metadata": {
    "ExecuteTime": {
     "end_time": "2025-04-28T19:57:41.966490Z",
     "start_time": "2025-03-06T04:41:43.473218Z"
    },
    "jupyter": {
     "is_executing": true
    }
   },
   "outputs": [
    {
     "name": "stdout",
     "output_type": "stream",
     "text": [
      "SVC Accuracy: 0.9491869918699187\n",
      "SVC Confusion Matrix:\n",
      "[[21,  0,  0, ...,  0,  0,  0],\n",
      " [ 0, 26,  0, ...,  0,  0,  0],\n",
      " [ 0,  0, 17, ...,  0,  0,  0],\n",
      " ...,\n",
      " [ 0,  0,  0, ..., 22,  0,  0],\n",
      " [ 0,  0,  0, ...,  0, 32,  0],\n",
      " [ 1,  0,  0, ...,  1,  0, 20]]\n",
      "\n",
      "========================================\n",
      "\n",
      "RandomForest Accuracy: 0.9532520325203252\n",
      "RandomForest Confusion Matrix:\n",
      "[[21,  0,  0, ...,  0,  0,  0],\n",
      " [ 0, 26,  0, ...,  0,  0,  0],\n",
      " [ 0,  0, 17, ...,  0,  0,  0],\n",
      " ...,\n",
      " [ 0,  0,  0, ..., 22,  0,  0],\n",
      " [ 0,  0,  0, ...,  0, 32,  0],\n",
      " [ 1,  0,  0, ...,  1,  0, 21]]\n",
      "\n",
      "========================================\n",
      "\n",
      "GradientBoosting Accuracy: 0.9420731707317073\n",
      "GradientBoosting Confusion Matrix:\n",
      "[[21,  0,  0, ...,  0,  0,  0],\n",
      " [ 0, 26,  0, ...,  0,  0,  0],\n",
      " [ 0,  0, 17, ...,  0,  0,  0],\n",
      " ...,\n",
      " [ 0,  0,  0, ..., 22,  0,  0],\n",
      " [ 0,  0,  0, ...,  0, 31,  0],\n",
      " [ 1,  0,  0, ...,  1,  0, 20]]\n",
      "\n",
      "========================================\n",
      "\n",
      "KNeighbors Accuracy: 0.9532520325203252\n",
      "KNeighbors Confusion Matrix:\n",
      "[[21,  0,  0, ...,  0,  0,  0],\n",
      " [ 0, 26,  0, ...,  0,  0,  0],\n",
      " [ 0,  0, 17, ...,  0,  0,  0],\n",
      " ...,\n",
      " [ 0,  0,  0, ..., 22,  0,  0],\n",
      " [ 0,  0,  0, ...,  0, 32,  0],\n",
      " [ 1,  0,  0, ...,  1,  0, 21]]\n",
      "\n",
      "========================================\n",
      "\n",
      "MultinomialNB Accuracy: 0.9532520325203252\n",
      "MultinomialNB Confusion Matrix:\n",
      "[[21,  0,  0, ...,  0,  0,  0],\n",
      " [ 0, 26,  0, ...,  0,  0,  0],\n",
      " [ 0,  0, 17, ...,  0,  0,  0],\n",
      " ...,\n",
      " [ 0,  0,  0, ..., 22,  0,  0],\n",
      " [ 0,  0,  0, ...,  0, 32,  0],\n",
      " [ 1,  0,  0, ...,  1,  0, 21]]\n",
      "\n",
      "========================================\n",
      "\n"
     ]
    }
   ],
   "source": [
    "from sklearn.datasets import make_classification\n",
    "from sklearn.model_selection import train_test_split\n",
    "from sklearn.svm import SVC\n",
    "from sklearn.ensemble import RandomForestClassifier, GradientBoostingClassifier\n",
    "from sklearn.neighbors import KNeighborsClassifier\n",
    "from sklearn.naive_bayes import MultinomialNB\n",
    "from sklearn.metrics import accuracy_score, confusion_matrix\n",
    "import numpy as np\n",
    "\n",
    "\n",
    "# Create a dictionary to store models\n",
    "models = {\n",
    "    'SVC': SVC(kernel='linear'),\n",
    "    'RandomForest': RandomForestClassifier(n_estimators=100, random_state=42),\n",
    "    'GradientBoosting': GradientBoostingClassifier(n_estimators=100, random_state=42),\n",
    "    'KNeighbors': KNeighborsClassifier(n_neighbors=5),\n",
    "    'MultinomialNB': MultinomialNB()\n",
    "}\n",
    "\n",
    "# Loop through the models, train, test, and print results\n",
    "for model_name, model in models.items():\n",
    "    # Train the model\n",
    "    model.fit(X_train, y_train)\n",
    "\n",
    "    # Test the model\n",
    "    predictions = model.predict(X_test)\n",
    "\n",
    "    # Calculate accuracy\n",
    "    accuracy = accuracy_score(y_test, predictions)\n",
    "    print(f\"{model_name} Accuracy: {accuracy}\")\n",
    "\n",
    "    # Calculate confusion matrix\n",
    "    cm = confusion_matrix(y_test, predictions)\n",
    "    print(f\"{model_name} Confusion Matrix:\")\n",
    "    print(np.array2string(cm, separator=', '))\n",
    "\n",
    "    print(\"\\n\" + \"=\"*40 + \"\\n\")\n"
   ]
  },
  {
   "cell_type": "markdown",
   "id": "36cee3c8",
   "metadata": {},
   "source": [
    "# single prediction"
   ]
  },
  {
   "cell_type": "code",
   "execution_count": 31,
   "id": "a74ad639",
   "metadata": {},
   "outputs": [
    {
     "data": {
      "text/plain": [
       "0.9491869918699187"
      ]
     },
     "execution_count": 31,
     "metadata": {},
     "output_type": "execute_result"
    }
   ],
   "source": [
    "# selecting svc\n",
    "svc = SVC(kernel='linear')\n",
    "svc.fit(X_train,y_train)\n",
    "ypred = svc.predict(X_test)\n",
    "accuracy_score(y_test,ypred)"
   ]
  },
  {
   "cell_type": "code",
   "execution_count": 32,
   "id": "fdd98daa",
   "metadata": {},
   "outputs": [],
   "source": [
    "# save svc\n",
    "import pickle\n",
    "pickle.dump(svc,open('svc.pkl','wb'))"
   ]
  },
  {
   "cell_type": "code",
   "execution_count": 33,
   "id": "4dd13145",
   "metadata": {},
   "outputs": [],
   "source": [
    "# load model\n",
    "svc = pickle.load(open('svc.pkl','rb'))"
   ]
  },
  {
   "cell_type": "code",
   "execution_count": 34,
   "id": "8bf40f9d",
   "metadata": {
    "jupyter": {
     "is_executing": true
    }
   },
   "outputs": [
    {
     "name": "stdout",
     "output_type": "stream",
     "text": [
      "predicted disease : [40]\n",
      "Actual Disease : 40\n"
     ]
    },
    {
     "name": "stderr",
     "output_type": "stream",
     "text": [
      "/Users/mac/Desktop/Medicine-Recommendation-System-Personalized-Medical-Recommendation-System-with-Machine-Learning/.venv/lib/python3.12/site-packages/sklearn/utils/validation.py:2739: UserWarning: X does not have valid feature names, but SVC was fitted with feature names\n",
      "  warnings.warn(\n"
     ]
    }
   ],
   "source": [
    "# test 1:\n",
    "print(\"predicted disease :\",svc.predict(X_test.iloc[0].values.reshape(1,-1)))\n",
    "print(\"Actual Disease :\", y_test[0])"
   ]
  },
  {
   "cell_type": "code",
   "execution_count": 35,
   "id": "786bfd1a",
   "metadata": {},
   "outputs": [
    {
     "name": "stdout",
     "output_type": "stream",
     "text": [
      "predicted disease : [39]\n",
      "Actual Disease : 39\n"
     ]
    },
    {
     "name": "stderr",
     "output_type": "stream",
     "text": [
      "/Users/mac/Desktop/Medicine-Recommendation-System-Personalized-Medical-Recommendation-System-with-Machine-Learning/.venv/lib/python3.12/site-packages/sklearn/utils/validation.py:2739: UserWarning: X does not have valid feature names, but SVC was fitted with feature names\n",
      "  warnings.warn(\n"
     ]
    }
   ],
   "source": [
    "# test 2:\n",
    "print(\"predicted disease :\",svc.predict(X_test.iloc[100].values.reshape(1,-1)))\n",
    "print(\"Actual Disease :\", y_test[100])"
   ]
  },
  {
   "cell_type": "markdown",
   "id": "9ce6884a",
   "metadata": {},
   "source": [
    "# Recommendation System and Prediction"
   ]
  },
  {
   "cell_type": "markdown",
   "id": "f53f59b8",
   "metadata": {},
   "source": [
    "# load database and use logic for recommendations"
   ]
  },
  {
   "cell_type": "code",
   "execution_count": 36,
   "id": "767ed813",
   "metadata": {},
   "outputs": [],
   "source": [
    "sym_des = pd.read_csv(\"symtoms_df.csv\")\n",
    "precautions = pd.read_csv(\"precautions_df.csv\")\n",
    "workout = pd.read_csv(\"workout_df.csv\")\n",
    "description = pd.read_csv(\"description.csv\")\n",
    "medications = pd.read_csv('medications.csv')\n",
    "diets = pd.read_csv(\"diets.csv\")"
   ]
  },
  {
   "cell_type": "code",
   "execution_count": 37,
   "id": "6cb123a9",
   "metadata": {},
   "outputs": [],
   "source": [
    "#============================================================\n",
    "# custome and helping functions\n",
    "#==========================helper funtions================\n",
    "def helper(dis):\n",
    "    desc = description[description['Disease'] == predicted_disease]['Description']\n",
    "    desc = \" \".join([w for w in desc])\n",
    "\n",
    "    pre = precautions[precautions['Disease'] == dis][['Precaution_1', 'Precaution_2', 'Precaution_3', 'Precaution_4']]\n",
    "    pre = [col for col in pre.values]\n",
    "\n",
    "    med = medications[medications['Disease'] == dis]['Medication']\n",
    "    med = [med for med in med.values]\n",
    "\n",
    "    die = diets[diets['Disease'] == dis]['Diet']\n",
    "    die = [die for die in die.values]\n",
    "\n",
    "    wrkout = workout[workout['disease'] == dis] ['workout']\n",
    "\n",
    "\n",
    "    return desc,pre,med,die,wrkout\n",
    "\n",
    "symptoms_dict = {'itching': 0, 'skin_rash': 1, 'nodal_skin_eruptions': 2, 'continuous_sneezing': 3, 'shivering': 4, 'chills': 5, 'joint_pain': 6, 'stomach_pain': 7, 'acidity': 8, 'ulcers_on_tongue': 9, 'muscle_wasting': 10, 'vomiting': 11, 'burning_micturition': 12, 'spotting_ urination': 13, 'fatigue': 14, 'weight_gain': 15, 'anxiety': 16, 'cold_hands_and_feets': 17, 'mood_swings': 18, 'weight_loss': 19, 'restlessness': 20, 'lethargy': 21, 'patches_in_throat': 22, 'irregular_sugar_level': 23, 'cough': 24, 'high_fever': 25, 'sunken_eyes': 26, 'breathlessness': 27, 'sweating': 28, 'dehydration': 29, 'indigestion': 30, 'headache': 31, 'yellowish_skin': 32, 'dark_urine': 33, 'nausea': 34, 'loss_of_appetite': 35, 'pain_behind_the_eyes': 36, 'back_pain': 37, 'constipation': 38, 'abdominal_pain': 39, 'diarrhoea': 40, 'mild_fever': 41, 'yellow_urine': 42, 'yellowing_of_eyes': 43, 'acute_liver_failure': 44, 'fluid_overload': 45, 'swelling_of_stomach': 46, 'swelled_lymph_nodes': 47, 'malaise': 48, 'blurred_and_distorted_vision': 49, 'phlegm': 50, 'throat_irritation': 51, 'redness_of_eyes': 52, 'sinus_pressure': 53, 'runny_nose': 54, 'congestion': 55, 'chest_pain': 56, 'weakness_in_limbs': 57, 'fast_heart_rate': 58, 'pain_during_bowel_movements': 59, 'pain_in_anal_region': 60, 'bloody_stool': 61, 'irritation_in_anus': 62, 'neck_pain': 63, 'dizziness': 64, 'cramps': 65, 'bruising': 66, 'obesity': 67, 'swollen_legs': 68, 'swollen_blood_vessels': 69, 'puffy_face_and_eyes': 70, 'enlarged_thyroid': 71, 'brittle_nails': 72, 'swollen_extremeties': 73, 'excessive_hunger': 74, 'extra_marital_contacts': 75, 'drying_and_tingling_lips': 76, 'slurred_speech': 77, 'knee_pain': 78, 'hip_joint_pain': 79, 'muscle_weakness': 80, 'stiff_neck': 81, 'swelling_joints': 82, 'movement_stiffness': 83, 'spinning_movements': 84, 'loss_of_balance': 85, 'unsteadiness': 86, 'weakness_of_one_body_side': 87, 'loss_of_smell': 88, 'bladder_discomfort': 89, 'foul_smell_of urine': 90, 'continuous_feel_of_urine': 91, 'passage_of_gases': 92, 'internal_itching': 93, 'toxic_look_(typhos)': 94, 'depression': 95, 'irritability': 96, 'muscle_pain': 97, 'altered_sensorium': 98, 'red_spots_over_body': 99, 'belly_pain': 100, 'abnormal_menstruation': 101, 'dischromic _patches': 102, 'watering_from_eyes': 103, 'increased_appetite': 104, 'polyuria': 105, 'family_history': 106, 'mucoid_sputum': 107, 'rusty_sputum': 108, 'lack_of_concentration': 109, 'visual_disturbances': 110, 'receiving_blood_transfusion': 111, 'receiving_unsterile_injections': 112, 'coma': 113, 'stomach_bleeding': 114, 'distention_of_abdomen': 115, 'history_of_alcohol_consumption': 116, 'fluid_overload.1': 117, 'blood_in_sputum': 118, 'prominent_veins_on_calf': 119, 'palpitations': 120, 'painful_walking': 121, 'pus_filled_pimples': 122, 'blackheads': 123, 'scurring': 124, 'skin_peeling': 125, 'silver_like_dusting': 126, 'small_dents_in_nails': 127, 'inflammatory_nails': 128, 'blister': 129, 'red_sore_around_nose': 130, 'yellow_crust_ooze': 131}\n",
    "diseases_list = {15: 'Fungal infection', 4: 'Allergy', 16: 'GERD', 9: 'Chronic cholestasis', 14: 'Drug Reaction', 33: 'Peptic ulcer diseae', 1: 'AIDS', 12: 'Diabetes ', 17: 'Gastroenteritis', 6: 'Bronchial Asthma', 23: 'Hypertension ', 30: 'Migraine', 7: 'Cervical spondylosis', 32: 'Paralysis (brain hemorrhage)', 28: 'Jaundice', 29: 'Malaria', 8: 'Chicken pox', 11: 'Dengue', 37: 'Typhoid', 40: 'hepatitis A', 19: 'Hepatitis B', 20: 'Hepatitis C', 21: 'Hepatitis D', 22: 'Hepatitis E', 3: 'Alcoholic hepatitis', 36: 'Tuberculosis', 10: 'Common Cold', 34: 'Pneumonia', 13: 'Dimorphic hemmorhoids(piles)', 18: 'Heart attack', 39: 'Varicose veins', 26: 'Hypothyroidism', 24: 'Hyperthyroidism', 25: 'Hypoglycemia', 31: 'Osteoarthristis', 5: 'Arthritis', 0: '(vertigo) Paroymsal  Positional Vertigo', 2: 'Acne', 38: 'Urinary tract infection', 35: 'Psoriasis', 27: 'Impetigo'}\n",
    "\n",
    "# Model Prediction function\n",
    "def get_predicted_value(patient_symptoms):\n",
    "    input_vector = np.zeros(len(symptoms_dict))\n",
    "    for item in patient_symptoms:\n",
    "        input_vector[symptoms_dict[item]] = 1\n",
    "    return diseases_list[svc.predict([input_vector])[0]]"
   ]
  },
  {
   "cell_type": "code",
   "execution_count": 38,
   "id": "64bb5d0b",
   "metadata": {},
   "outputs": [],
   "source": [
    "def get_predicted_value(patient_symptoms):\n",
    "\n",
    "    expected_features = svc.n_features_in_  \n",
    "\n",
    "    input_vector = [0] * expected_features\n",
    "\n",
    "\n",
    "    for item in patient_symptoms:\n",
    "        if item in symptoms_dict:  \n",
    "            input_vector[symptoms_dict[item]] = 1\n",
    "    \n",
    "\n",
    "    if len(input_vector) != expected_features:\n",
    "        raise ValueError(f\"Feature mismatch: Model expects {expected_features} features, but got {len(input_vector)}\")\n",
    "\n",
    "    return diseases_list[svc.predict([input_vector])[0]]\n"
   ]
  },
  {
   "cell_type": "code",
   "execution_count": 39,
   "id": "a36b1e93",
   "metadata": {},
   "outputs": [
    {
     "name": "stdout",
     "output_type": "stream",
     "text": [
      "=================predicted disease============\n",
      "Fungal infection\n",
      "=================description==================\n",
      "Fungal infection is a common skin condition caused by fungi.\n",
      "=================precautions==================\n",
      "1 :  bath twice\n",
      "2 :  use detol or neem in bathing water\n",
      "3 :  keep infected area dry\n",
      "4 :  use clean cloths\n",
      "=================medications==================\n",
      "5 :  ['Antifungal Cream', 'Fluconazole', 'Terbinafine', 'Clotrimazole', 'Ketoconazole']\n",
      "=================workout==================\n",
      "6 :  Avoid sugary foods\n",
      "7 :  Consume probiotics\n",
      "8 :  Increase intake of garlic\n",
      "9 :  Include yogurt in diet\n",
      "10 :  Limit processed foods\n",
      "11 :  Stay hydrated\n",
      "12 :  Consume green tea\n",
      "13 :  Eat foods rich in zinc\n",
      "14 :  Include turmeric in diet\n",
      "15 :  Eat fruits and vegetables\n",
      "=================diets==================\n",
      "16 :  ['Antifungal Diet', 'Probiotics', 'Garlic', 'Coconut oil', 'Turmeric']\n"
     ]
    },
    {
     "name": "stderr",
     "output_type": "stream",
     "text": [
      "/Users/mac/Desktop/Medicine-Recommendation-System-Personalized-Medical-Recommendation-System-with-Machine-Learning/.venv/lib/python3.12/site-packages/sklearn/utils/validation.py:2739: UserWarning: X does not have valid feature names, but SVC was fitted with feature names\n",
      "  warnings.warn(\n"
     ]
    }
   ],
   "source": [
    "# Test 1\n",
    "# Split the user's input into a list of symptoms (assuming they are comma-separated) # itching,skin_rash,nodal_skin_eruptions\n",
    "symptoms = input(\"Enter your symptoms.......\")\n",
    "user_symptoms = [s.strip() for s in symptoms.split(',')]\n",
    "\n",
    "user_symptoms = [symptom.strip(\"[]' \") for symptom in user_symptoms]\n",
    "predicted_disease = get_predicted_value(user_symptoms)\n",
    "\n",
    "desc, pre, med, die, wrkout = helper(predicted_disease)\n",
    "\n",
    "print(\"=================predicted disease============\")\n",
    "print(predicted_disease)\n",
    "print(\"=================description==================\")\n",
    "print(desc)\n",
    "print(\"=================precautions==================\")\n",
    "i = 1\n",
    "for p_i in pre[0]:\n",
    "    print(i, \": \", p_i)\n",
    "    i += 1\n",
    "\n",
    "print(\"=================medications==================\")\n",
    "for m_i in med:\n",
    "    print(i, \": \", m_i)\n",
    "    i += 1\n",
    "\n",
    "print(\"=================workout==================\")\n",
    "for w_i in wrkout:\n",
    "    print(i, \": \", w_i)\n",
    "    i += 1\n",
    "\n",
    "print(\"=================diets==================\")\n",
    "for d_i in die:\n",
    "    print(i, \": \", d_i)\n",
    "    i += 1\n"
   ]
  },
  {
   "cell_type": "code",
   "execution_count": 40,
   "id": "2d7ee79b",
   "metadata": {},
   "outputs": [
    {
     "name": "stdout",
     "output_type": "stream",
     "text": [
      "=================predicted disease============\n",
      "GERD\n",
      "=================description==================\n",
      "GERD (Gastroesophageal Reflux Disease) is a digestive disorder that affects the lower esophageal sphincter.\n",
      "=================precautions==================\n",
      "1 :  avoid fatty spicy food\n",
      "2 :  avoid lying down after eating\n",
      "3 :  maintain healthy weight\n",
      "4 :  exercise\n",
      "=================medications==================\n",
      "5 :  ['Proton Pump Inhibitors (PPIs)', 'H2 Blockers', 'Antacids', 'Prokinetics', 'Antibiotics']\n",
      "=================workout==================\n",
      "6 :  Consume smaller meals\n",
      "7 :  Avoid trigger foods (spicy, fatty)\n",
      "8 :  Eat high-fiber foods\n",
      "9 :  Limit caffeine and alcohol\n",
      "10 :  Chew food thoroughly\n",
      "11 :  Avoid late-night eating\n",
      "12 :  Consume non-citrus fruits\n",
      "13 :  Include lean proteins\n",
      "14 :  Stay hydrated\n",
      "15 :  Avoid carbonated beverages\n",
      "=================diets==================\n",
      "16 :  ['Low-Acid Diet', 'Fiber-rich foods', 'Ginger', 'Licorice', 'Aloe vera juice']\n"
     ]
    },
    {
     "name": "stderr",
     "output_type": "stream",
     "text": [
      "/Users/mac/Desktop/Medicine-Recommendation-System-Personalized-Medical-Recommendation-System-with-Machine-Learning/.venv/lib/python3.12/site-packages/sklearn/utils/validation.py:2739: UserWarning: X does not have valid feature names, but SVC was fitted with feature names\n",
      "  warnings.warn(\n"
     ]
    }
   ],
   "source": [
    "\n",
    "symptoms = input(\"Enter your symptoms.......\")\n",
    "user_symptoms = [s.strip() for s in symptoms.split(',')]\n",
    "\n",
    "user_symptoms = [symptom.strip(\"[]' \") for symptom in user_symptoms]\n",
    "predicted_disease = get_predicted_value(user_symptoms)\n",
    "\n",
    "desc, pre, med, die, wrkout = helper(predicted_disease)\n",
    "\n",
    "print(\"=================predicted disease============\")\n",
    "print(predicted_disease)\n",
    "print(\"=================description==================\")\n",
    "print(desc)\n",
    "print(\"=================precautions==================\")\n",
    "i = 1\n",
    "for p_i in pre[0]:\n",
    "    print(i, \": \", p_i)\n",
    "    i += 1\n",
    "\n",
    "print(\"=================medications==================\")\n",
    "for m_i in med:\n",
    "    print(i, \": \", m_i)\n",
    "    i += 1\n",
    "\n",
    "print(\"=================workout==================\")\n",
    "for w_i in wrkout:\n",
    "    print(i, \": \", w_i)\n",
    "    i += 1\n",
    "\n",
    "print(\"=================diets==================\")\n",
    "for d_i in die:\n",
    "    print(i, \": \", d_i)\n",
    "    i += 1\n"
   ]
  },
  {
   "cell_type": "code",
   "execution_count": 41,
   "id": "a8d5df35",
   "metadata": {},
   "outputs": [
    {
     "name": "stdout",
     "output_type": "stream",
     "text": [
      "1.6.1\n"
     ]
    }
   ],
   "source": [
    "\n",
    "import sklearn\n",
    "print(sklearn.__version__)"
   ]
  },
  {
   "cell_type": "code",
   "execution_count": null,
   "id": "97dfb973",
   "metadata": {},
   "outputs": [],
   "source": []
  },
  {
   "cell_type": "code",
   "execution_count": null,
   "id": "99cbcf51",
   "metadata": {},
   "outputs": [],
   "source": []
  },
  {
   "cell_type": "code",
   "execution_count": null,
   "id": "37b5e878",
   "metadata": {},
   "outputs": [],
   "source": []
  }
 ],
 "metadata": {
  "kernelspec": {
   "display_name": ".venv",
   "language": "python",
   "name": "python3"
  },
  "language_info": {
   "codemirror_mode": {
    "name": "ipython",
    "version": 3
   },
   "file_extension": ".py",
   "mimetype": "text/x-python",
   "name": "python",
   "nbconvert_exporter": "python",
   "pygments_lexer": "ipython3",
   "version": "3.12.5"
  }
 },
 "nbformat": 4,
 "nbformat_minor": 5
}
